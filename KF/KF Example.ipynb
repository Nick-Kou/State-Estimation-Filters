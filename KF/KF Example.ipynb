{
 "cells": [
  {
   "cell_type": "code",
   "execution_count": 1,
   "metadata": {},
   "outputs": [
    {
     "data": {
      "image/png": "[encoded data removed]",
      "text/plain": [
       "<Figure size 432x288 with 1 Axes>"
      ]
     },
     "metadata": {
      "needs_background": "light"
     },
     "output_type": "display_data"
    }
   ],
   "source": [
    "import matplotlib.pyplot as plt\n",
    "import math\n",
    "from numpy import append, matmul, array,dot\n",
    "import numpy as np\n",
    "from numpy.linalg import inv\n",
    "T = 1/8\n",
    "r = 0.1\n",
    "plt.figure()\n",
    "plt.xlabel('x distance (m)')\n",
    "plt.ylabel('y distance (m)')\n",
    "N_iter = 10\n",
    "value_check = [None] * N_iter\n",
    "for op in range (1,N_iter+1):\n",
    "    value_check[op-1] = (8*op) + (op-1)\n"
   ]
  },
  {
   "cell_type": "code",
   "execution_count": 2,
   "metadata": {},
   "outputs": [],
   "source": [
    "def kf_predict(X, P, A, Q, X_dot):\n",
    "    X = dot(A, X) + X_dot\n",
    "    P = dot(A, dot(P, A.T)) + Q\n",
    "    return(X,P)\n",
    "\n",
    "\n",
    "def kf_update(X, P, Z, C_K, R):\n",
    "    IM = dot(C_K, X)\n",
    "    IS = R + dot(C_K, dot(P, C_K.T))\n",
    "    K = dot(P, dot(C_K.T, inv(IS)))\n",
    "    X = X + dot(K, (Z-IM))\n",
    "    P = P - dot(K, dot(IS, K.T))\n",
    "    #P = matmul((array([[1.0, 1.0], [1.0, 1.0]])- matmul(K,C_K)), P)\n",
    "    return (X,P,K,IM,IS)\n"
   ]
  },
  {
   "cell_type": "code",
   "execution_count": 3,
   "metadata": {},
   "outputs": [],
   "source": [
    "# Initialization of state matrices\n",
    "X = array([[0.0], [0.0]])\n",
    "P = array([[0.0, 0.0], [0.0, 0.0]])\n",
    "A = array([[1, 0], [0, 1]])\n",
    "Q = array([[0.1, 0.0], [0.0, 0.15]])\n",
    "X_dot= array([[(((T*r)/2)*0.2)+(0.1*T)], [(((T*r)/2)*0.2)+(0.15*T)]])\n",
    "\n",
    "\n",
    "# Measurement matrices\n",
    "C_K = array([[1.0, 0.0], [0.0, 2.0]])\n",
    "V_k = array([[0.05], [0.075]])\n",
    "R = array([[0.05, 0.0], [0.0, 0.075]])\n",
    "Z = V_k + dot(C_K, X)\n"
   ]
  },
  {
   "cell_type": "code",
   "execution_count": 4,
   "metadata": {},
   "outputs": [
    {
     "name": "stdout",
     "output_type": "stream",
     "text": [
      "11\n",
      "80\n"
     ]
    },
    {
     "data": {
      "image/png": "[encoded data removed]",
      "text/plain": [
       "<Figure size 432x288 with 1 Axes>"
      ]
     },
     "metadata": {
      "needs_background": "light"
     },
     "output_type": "display_data"
    }
   ],
   "source": [
    "# Applying the Kalman Filter\n",
    "X_VALUE = []\n",
    "Y_VALUE = []\n",
    "x_plot_afterupdate = [0]\n",
    "y_plot_afterupdate =[0]\n",
    "a1 = []\n",
    "b1 = []\n",
    "c1 = []\n",
    "d1 = []\n",
    "x_plot_beforeupdate = []\n",
    "y_plot_beforeupdate =[]\n",
    "for i in range(0, N_iter):\n",
    "    for w in range(0,8):\n",
    "        X_VALUE = append(X_VALUE, X[0,0])\n",
    "        Y_VALUE = append(Y_VALUE, X[1,0])\n",
    "        a1 = append(a1, P[0,0])\n",
    "        b1 = append(b1, P[0, 1])\n",
    "        c1 = append(c1, P[1, 0])\n",
    "        d1 = append(d1, P[1, 1])\n",
    "\n",
    "        x_plot_beforeupdate = append(x_plot_beforeupdate,X[0,0])\n",
    "        y_plot_beforeupdate = append(y_plot_beforeupdate, X[1, 0])\n",
    "        (X, P) = kf_predict(X, P, A, Q, X_dot)\n",
    "\n",
    "\n",
    "    (X, P, K, IM, IS) = kf_update(X, P, Z, C_K, R)\n",
    "    X_VALUE = append(X_VALUE, X[0, 0])\n",
    "    Y_VALUE = append(Y_VALUE, X[1, 0])\n",
    "    x_plot_afterupdate = append(x_plot_afterupdate, X[0, 0])\n",
    "    y_plot_afterupdate = append(y_plot_afterupdate, X[1, 0])\n",
    "    a1 = append(a1, P[0, 0])\n",
    "    b1 = append(b1, P[0, 1])\n",
    "    c1 = append(c1, P[1, 0])\n",
    "    d1 = append(d1, P[1, 1])\n",
    "\n",
    "    Z = V_k + dot(C_K, X)\n",
    "print (len(x_plot_afterupdate))\n",
    "print(len(x_plot_beforeupdate))\n",
    "plt.scatter( x_plot_afterupdate, y_plot_afterupdate, label= \"After Update\", marker='o')\n",
    "plt.scatter( x_plot_beforeupdate, y_plot_beforeupdate, label= \"Before Update\", marker='+')\n",
    "\n",
    "plt.legend()\n",
    "plt.show()"
   ]
  },
  {
   "cell_type": "code",
   "execution_count": 5,
   "metadata": {},
   "outputs": [],
   "source": [
    "lambda_1 = [None] * N_iter*9\n",
    "lambda_2 = [None] * N_iter*9\n",
    "for m in range((N_iter*9)):\n",
    "    lambda_1[m]= (a1[m]+d1[m])/2 + math.sqrt(math.pow((a1[m]-d1[m])/2,2)+ math.pow(b1[m],2))\n",
    "    lambda_2[m] = (a1[m] + d1[m]) / 2 - math.sqrt(math.pow((a1[m] - d1[m]) / 2, 2) + math.pow(b1[m],2))\n",
    "    lambda_1[m] = math.sqrt(lambda_1[m]) *150\n",
    "    lambda_2[m] = math.sqrt(lambda_2[m]) *150\n",
    "\n",
    "x_plot_beforeupdate = [k * 700 for k in x_plot_beforeupdate]\n",
    "y_plot_beforeupdate = [z * 500 for z in y_plot_beforeupdate]\n",
    "x_plot_afterupdate = [wrx * 700 for wrx in x_plot_afterupdate]\n",
    "y_plot_afterupdate = [wrz * 500 for wrz in y_plot_afterupdate]\n",
    "X_VALUE = [kk * 700 for kk in X_VALUE]\n",
    "Y_VALUE = [zz * 500 for zz in Y_VALUE]\n"
   ]
  },
  {
   "cell_type": "code",
   "execution_count": 6,
   "metadata": {},
   "outputs": [
    {
     "name": "stdout",
     "output_type": "stream",
     "text": [
      "pygame 2.0.0.dev6 (SDL 2.0.10, python 3.8.5)\n",
      "Hello from the pygame community. https://www.pygame.org/contribute.html\n"
     ]
    }
   ],
   "source": [
    "import pygame\n",
    "\n",
    "def draw_dashed_line(surf, color, start_pos, end_pos, width=3, dash_length=10):\n",
    "    x1, y1 = start_pos\n",
    "    x2, y2 = end_pos\n",
    "    dl = dash_length\n",
    "\n",
    "    if (x1 == x2):\n",
    "        ycoords = [y for y in range(y1, y2, dl if y1 < y2 else -dl)]\n",
    "        xcoords = [x1] * len(ycoords)\n",
    "    elif (y1 == y2):\n",
    "        xcoords = [x for x in range(x1, x2, dl if x1 < x2 else -dl)]\n",
    "        ycoords = [y1] * len(xcoords)\n",
    "    else:\n",
    "        a = abs(x2 - x1)\n",
    "        b = abs(y2 - y1)\n",
    "        c = round(math.sqrt(a**2 + b**2))\n",
    "        dx = dl * a / c\n",
    "        dy = dl * b / c\n",
    "\n",
    "        xcoords = [x for x in np.arange(x1, x2, dx if x1 < x2 else -dx)]\n",
    "        ycoords = [y for y in np.arange(y1, y2, dy if y1 < y2 else -dy)]\n",
    "\n",
    "    next_coords = list(zip(xcoords[1::2], ycoords[1::2]))\n",
    "    last_coords = list(zip(xcoords[0::2], ycoords[0::2]))\n",
    "    for (x1, y1), (x2, y2) in zip(next_coords, last_coords):\n",
    "        start = (round(x1), round(y1))\n",
    "        end = (round(x2), round(y2))\n",
    "        pygame.draw.line(surf, color, start, end, width)\n",
    "\n",
    "\n",
    "\n"
   ]
  },
  {
   "cell_type": "code",
   "execution_count": 7,
   "metadata": {},
   "outputs": [],
   "source": [
    "# Define some colors\n",
    "BLACK = (0, 0, 0)\n",
    "WHITE = (255, 255, 255)\n",
    "GREEN = (0, 255, 0)\n",
    "RED = (255, 0, 0)\n",
    "BLUE = (0, 0, 153)\n",
    "LIGHT_BLUE = (102 ,178 ,255)\n",
    "YELLOW = (255, 255, 0)\n",
    "DARK_GREEN = (0, 153, 0)\n",
    "GREY = (160, 160, 160)"
   ]
  },
  {
   "cell_type": "code",
   "execution_count": 8,
   "metadata": {},
   "outputs": [],
   "source": [
    "pygame.init()\n",
    "\n",
    "# Set the width and height of the screen [width, height]\n",
    "size = (700, 500)\n",
    "screen = pygame.display.set_mode(size)\n",
    "\n",
    "pygame.display.set_caption(\"My Game\")\n",
    "\n",
    "# Loop until the user clicks the close button.\n",
    "done = False\n",
    "\n",
    "# Used to manage how fast the screen updates\n",
    "clock = pygame.time.Clock()\n",
    "rect_xpt=0\n",
    "rect_ypt=0\n",
    "elip_xlength=0\n",
    "elip_ylength=0\n",
    "array_index = 0\n",
    "before_update_index = 0\n",
    "after_update_index = 0\n",
    "check_index = 0\n",
    "check = 0"
   ]
  },
  {
   "cell_type": "code",
   "execution_count": 9,
   "metadata": {},
   "outputs": [
    {
     "name": "stderr",
     "output_type": "stream",
     "text": [
      "<ipython-input-9-cd8f26b6e38e>:21: DeprecationWarning: an integer is required (got type float).  Implicit conversion to integers using __int__ is deprecated, and may be removed in a future version of Python.\n",
      "  pygame.draw.ellipse(screen, YELLOW, [int(X_VALUE[i]) - (int(lambda_1[i]) - ((0.5 * int(lambda_1[i])) + (0.5 * 5))),int(Y_VALUE[i]) - (int(lambda_2[i]) - ((0.5 * int(lambda_2[i])) + (0.5 * 5))), int(lambda_1[i]) ,int(lambda_2[i])], 2)\n"
     ]
    }
   ],
   "source": [
    "# -------- Main Program Loop -----------\n",
    "while not done:\n",
    "    # --- Main event loop\n",
    "    for event in pygame.event.get():\n",
    "        if event.type == pygame.QUIT:\n",
    "            done = True\n",
    "\n",
    "    # --- Game logic should go here\n",
    "\n",
    "    # --- Screen-clearing code goes here\n",
    "\n",
    "    # Here, we clear the screen to white. Don't put other drawing commands\n",
    "    # above this, or they will be erased with this command.\n",
    "\n",
    "    # If you want a background image, replace this clear with blit'ing the\n",
    "    # background image.\n",
    "\n",
    "    screen.fill(BLACK)\n",
    "    pygame.draw.rect(screen,WHITE, [rect_xpt,rect_ypt,5,5],5)\n",
    "    for i in range (array_index):\n",
    "        pygame.draw.ellipse(screen, YELLOW, [int(X_VALUE[i]) - (int(lambda_1[i]) - ((0.5 * int(lambda_1[i])) + (0.5 * 5))),int(Y_VALUE[i]) - (int(lambda_2[i]) - ((0.5 * int(lambda_2[i])) + (0.5 * 5))), int(lambda_1[i]) ,int(lambda_2[i])], 2)\n",
    "    if array_index != 0:\n",
    "\n",
    "\n",
    "        for i in range (before_update_index):\n",
    "            pygame.draw.lines(screen, BLUE, False, [(int(x_plot_beforeupdate[i]), int(y_plot_beforeupdate[i])), (int(x_plot_beforeupdate[i + 1]), int(y_plot_beforeupdate[i + 1]))], 7)\n",
    "\n",
    "\n",
    "        for ii in range(after_update_index):\n",
    "            draw_dashed_line(screen, RED, (int(x_plot_afterupdate[ii]), int(y_plot_afterupdate[ii])),(int(x_plot_afterupdate[ii + 1]), int(y_plot_afterupdate[ii + 1])), dash_length=5)\n",
    "\n",
    "\n",
    "    rect_xpt = int(X_VALUE[array_index])\n",
    "    rect_ypt = int(Y_VALUE[array_index])\n",
    "    elip_xlength = int(lambda_1[array_index])\n",
    "    elip_ylength = int(lambda_2[array_index])\n",
    "    if array_index == (N_iter*9) - 1:\n",
    "        array_index = array_index\n",
    "    else:\n",
    "        array_index = array_index +1\n",
    "\n",
    "    if value_check[check_index] == array_index or array_index > ((N_iter*9) - 2):\n",
    "        before_update_index = before_update_index\n",
    "\n",
    "\n",
    "    else:\n",
    "        before_update_index = before_update_index +1\n",
    "\n",
    "    if check != 1:\n",
    "\n",
    "        if value_check[check_index] == array_index:\n",
    "            after_update_index = after_update_index + 1\n",
    "            check_index = check_index + 1\n",
    "\n",
    "            if check_index == 10:\n",
    "                check = 1\n",
    "                check_index = check_index - 1\n",
    "\n",
    "\n",
    "\n",
    "\n",
    "\n",
    "\n",
    "        else :\n",
    "            after_update_index = after_update_index\n",
    "\n",
    "\n",
    "\n",
    "    # --- Drawing code should go here\n",
    "\n",
    "    # --- Go ahead and update the screen with what we've drawn.\n",
    "    pygame.display.flip()\n",
    "\n",
    "    # --- Limit to 60 frames per second\n",
    "    clock.tick(7)\n",
    "\n",
    "# Close the window and quit.\n",
    "pygame.quit()"
   ]
  }
 ],
 "metadata": {
  "kernelspec": {
   "display_name": "Python 3",
   "language": "python",
   "name": "python3"
  },
  "language_info": {
   "codemirror_mode": {
    "name": "ipython",
    "version": 3
   },
   "file_extension": ".py",
   "mimetype": "text/x-python",
   "name": "python",
   "nbconvert_exporter": "python",
   "pygments_lexer": "ipython3",
   "version": "3.8.5"
  }
 },
 "nbformat": 4,
 "nbformat_minor": 4
}
